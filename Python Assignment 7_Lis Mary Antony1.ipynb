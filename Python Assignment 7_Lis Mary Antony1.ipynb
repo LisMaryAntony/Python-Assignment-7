{
 "cells": [
  {
   "cell_type": "markdown",
   "id": "8fb1270a-8333-47a9-ab4d-13c8e4870d13",
   "metadata": {},
   "source": [
    "# Exercise 1"
   ]
  },
  {
   "cell_type": "code",
   "execution_count": 5,
   "id": "a1383b04-9dd0-40c5-9124-a615efa888ed",
   "metadata": {},
   "outputs": [],
   "source": [
    "def read_file(file_name):\n",
    "    with open(file_name, 'r') as file:\n",
    "        content = file.read()\n",
    "        print(content)"
   ]
  },
  {
   "cell_type": "code",
   "execution_count": 9,
   "id": "4651527e-d148-4355-a2f9-9ebb8172a1c8",
   "metadata": {},
   "outputs": [
    {
     "name": "stdout",
     "output_type": "stream",
     "text": [
      "Python is a high-level, versatile programming language celebrated for its simplicity and readability. Designed to be intuitive, it allows developers to express concepts in fewer lines of code compared to other languages. This makes it an excellent choice for beginners and experienced programmers alike. Python's extensive libraries and frameworks enable efficient development across various applications, including data science, web development, automation, and artificial intelligence.\n",
      "\n",
      "In addition to its user-friendly syntax, Python boasts a vibrant community that actively contributes to its growth. With a wealth of resources, tutorials, and third-party modules available, programmers can easily find support and tools to enhance their projects. Its adaptability ensures that Python remains a popular choice among developers in diverse fields.\n"
     ]
    }
   ],
   "source": [
    "read_file('Ass7.txt')"
   ]
  },
  {
   "cell_type": "markdown",
   "id": "1ddbf615-24b0-4d75-950f-fd7338ad5575",
   "metadata": {},
   "source": [
    "# Exercise 2"
   ]
  },
  {
   "cell_type": "code",
   "execution_count": 13,
   "id": "9a363e39-a3fa-431e-996a-4e819d7f5116",
   "metadata": {},
   "outputs": [],
   "source": [
    "def copy_file(source_file, target_file):\n",
    "    with open(source_file, 'r') as src:\n",
    "        content = src.read()\n",
    "    with open(target_file, 'w') as tgt:\n",
    "        tgt.write(content)"
   ]
  },
  {
   "cell_type": "code",
   "execution_count": 15,
   "id": "0671855b-d2c2-4d91-99b0-df4fefb56c79",
   "metadata": {},
   "outputs": [],
   "source": [
    "copy_file('Ass7.txt', 'Ass7_copy.txt')"
   ]
  },
  {
   "cell_type": "code",
   "execution_count": 17,
   "id": "02b56164-e2d8-4cc6-831c-eefb47b85f04",
   "metadata": {},
   "outputs": [
    {
     "name": "stdout",
     "output_type": "stream",
     "text": [
      "Python is a high-level, versatile programming language celebrated for its simplicity and readability. Designed to be intuitive, it allows developers to express concepts in fewer lines of code compared to other languages. This makes it an excellent choice for beginners and experienced programmers alike. Python's extensive libraries and frameworks enable efficient development across various applications, including data science, web development, automation, and artificial intelligence.\n",
      "\n",
      "In addition to its user-friendly syntax, Python boasts a vibrant community that actively contributes to its growth. With a wealth of resources, tutorials, and third-party modules available, programmers can easily find support and tools to enhance their projects. Its adaptability ensures that Python remains a popular choice among developers in diverse fields.\n"
     ]
    }
   ],
   "source": [
    "read_file('Ass7_copy.txt')"
   ]
  },
  {
   "cell_type": "markdown",
   "id": "a914e0c1-5410-4ec4-893f-28739402570a",
   "metadata": {},
   "source": [
    "# Exercise 3"
   ]
  },
  {
   "cell_type": "code",
   "execution_count": 21,
   "id": "63ac3c6d-3786-4615-892f-e93d0e4eb8fb",
   "metadata": {},
   "outputs": [],
   "source": [
    "def count_words(file_name):\n",
    "    with open(file_name, 'r') as file:\n",
    "        content = file.read()\n",
    "        words = content.split()\n",
    "        print(f\"Total number of words: {len(words)}\")"
   ]
  },
  {
   "cell_type": "code",
   "execution_count": 23,
   "id": "d4339dd5-ca50-488a-8cfb-dbff3ce29964",
   "metadata": {},
   "outputs": [
    {
     "name": "stdout",
     "output_type": "stream",
     "text": [
      "Total number of words: 116\n"
     ]
    }
   ],
   "source": [
    "count_words('Ass7.txt')"
   ]
  },
  {
   "cell_type": "markdown",
   "id": "2fbc511c-cd28-4a58-b0ce-0275a240a1ec",
   "metadata": {},
   "source": [
    "# Exercise 4"
   ]
  },
  {
   "cell_type": "code",
   "execution_count": 27,
   "id": "3c339c7e-5037-4f85-96ca-62b964c2f7ab",
   "metadata": {},
   "outputs": [],
   "source": [
    "def count_word_occurrences(file_name, word):\n",
    "    with open(file_name, 'r') as file:\n",
    "        content = file.read().lower()\n",
    "        word_count = content.count(word.lower())\n",
    "        print(f\"The word '{word}' occurred {word_count} times.\")"
   ]
  },
  {
   "cell_type": "code",
   "execution_count": 29,
   "id": "4cc90a22-5f3c-49e8-bdb0-983fc1a20043",
   "metadata": {},
   "outputs": [
    {
     "name": "stdout",
     "output_type": "stream",
     "text": [
      "The word 'Python' occurred 4 times.\n"
     ]
    }
   ],
   "source": [
    "count_word_occurrences('Ass7.txt', 'Python')"
   ]
  },
  {
   "cell_type": "code",
   "execution_count": 31,
   "id": "5236230d-d2fc-4f42-9315-543cd69afac8",
   "metadata": {},
   "outputs": [
    {
     "name": "stdout",
     "output_type": "stream",
     "text": [
      "The word 'in' occurred 12 times.\n"
     ]
    }
   ],
   "source": [
    "count_word_occurrences('Ass7.txt', 'in')"
   ]
  },
  {
   "cell_type": "markdown",
   "id": "db678855-218d-4697-81fd-a34b69ce7b86",
   "metadata": {},
   "source": [
    "# Exercise 5"
   ]
  },
  {
   "cell_type": "code",
   "execution_count": 35,
   "id": "4b7424a8-876a-43bd-8cc3-3768d7d65755",
   "metadata": {},
   "outputs": [],
   "source": [
    "def convert_to_integer():\n",
    "    try:\n",
    "        user_input = input(\"Enter a string to convert to an integer: \")\n",
    "        number = int(user_input)\n",
    "        print(f\"The integer is: {number}\")\n",
    "    except ValueError:\n",
    "        print(\"The input is not a valid integer.\")"
   ]
  },
  {
   "cell_type": "code",
   "execution_count": 37,
   "id": "a4f1ebdc-2778-4961-b22c-9efd9cd204ca",
   "metadata": {},
   "outputs": [
    {
     "name": "stdin",
     "output_type": "stream",
     "text": [
      "Enter a string to convert to an integer:  57\n"
     ]
    },
    {
     "name": "stdout",
     "output_type": "stream",
     "text": [
      "The integer is: 57\n"
     ]
    }
   ],
   "source": [
    "convert_to_integer()"
   ]
  },
  {
   "cell_type": "code",
   "execution_count": 39,
   "id": "19fa9eb4-3716-423a-b4a3-62bd6d59fcc6",
   "metadata": {},
   "outputs": [
    {
     "name": "stdin",
     "output_type": "stream",
     "text": [
      "Enter a string to convert to an integer:  Is\n"
     ]
    },
    {
     "name": "stdout",
     "output_type": "stream",
     "text": [
      "The input is not a valid integer.\n"
     ]
    }
   ],
   "source": [
    "convert_to_integer()"
   ]
  },
  {
   "cell_type": "markdown",
   "id": "82a2b9aa-1963-4492-b901-0b87e95b78f0",
   "metadata": {},
   "source": [
    "# Exercise 6"
   ]
  },
  {
   "cell_type": "code",
   "execution_count": 43,
   "id": "f0872d01-0522-4cbd-b664-09362c179a85",
   "metadata": {},
   "outputs": [],
   "source": [
    "def check_negative_integers():\n",
    "    try:\n",
    "        numbers = list(map(int, input(\"Enter a list of integers separated by space: \").split()))\n",
    "        for number in numbers:\n",
    "            if number < 0:\n",
    "                raise ValueError(\"Negative integers are not allowed!\")\n",
    "        print(\"All integers are non-negative.\")\n",
    "    except ValueError as e:\n",
    "        print(e)"
   ]
  },
  {
   "cell_type": "code",
   "execution_count": 45,
   "id": "30f22893-6a75-447d-a165-655f84686f69",
   "metadata": {},
   "outputs": [
    {
     "name": "stdin",
     "output_type": "stream",
     "text": [
      "Enter a list of integers separated by space:  12 -3 5 46 -3\n"
     ]
    },
    {
     "name": "stdout",
     "output_type": "stream",
     "text": [
      "Negative integers are not allowed!\n"
     ]
    }
   ],
   "source": [
    "check_negative_integers()"
   ]
  },
  {
   "cell_type": "code",
   "execution_count": 47,
   "id": "46b5a547-0ae7-4793-9bad-a82e8a2fb2e8",
   "metadata": {},
   "outputs": [
    {
     "name": "stdin",
     "output_type": "stream",
     "text": [
      "Enter a list of integers separated by space:  12 4 87 102 23 82 283\n"
     ]
    },
    {
     "name": "stdout",
     "output_type": "stream",
     "text": [
      "All integers are non-negative.\n"
     ]
    }
   ],
   "source": [
    "check_negative_integers()"
   ]
  },
  {
   "cell_type": "markdown",
   "id": "ea20b8d3-50b3-4fcc-9c79-dbf5d7eb486c",
   "metadata": {},
   "source": [
    "# Exercise 7"
   ]
  },
  {
   "cell_type": "code",
   "execution_count": 51,
   "id": "785a2c85-8236-4f66-8768-316727226d25",
   "metadata": {},
   "outputs": [],
   "source": [
    "def compute_average():\n",
    "    try:\n",
    "        numbers = list(map(int, input(\"Enter a list of integers separated by space: \").split()))\n",
    "        if not numbers:\n",
    "            raise ValueError(\"List cannot be empty!\")\n",
    "        average = sum(numbers) / len(numbers)\n",
    "        print(f\"The average is: {average}\")\n",
    "    except ValueError as e:\n",
    "        print(e)\n",
    "    finally:\n",
    "        print(\"Program has finished running.\")"
   ]
  },
  {
   "cell_type": "code",
   "execution_count": 53,
   "id": "9df440b4-1486-4312-b454-1c5921f162eb",
   "metadata": {},
   "outputs": [
    {
     "name": "stdin",
     "output_type": "stream",
     "text": [
      "Enter a list of integers separated by space:  45 76 23 19 -78\n"
     ]
    },
    {
     "name": "stdout",
     "output_type": "stream",
     "text": [
      "The average is: 17.0\n",
      "Program has finished running.\n"
     ]
    }
   ],
   "source": [
    "compute_average()"
   ]
  },
  {
   "cell_type": "code",
   "execution_count": 55,
   "id": "a4f2a422-589f-4046-9a20-ae0560737d63",
   "metadata": {},
   "outputs": [
    {
     "name": "stdin",
     "output_type": "stream",
     "text": [
      "Enter a list of integers separated by space:  \n"
     ]
    },
    {
     "name": "stdout",
     "output_type": "stream",
     "text": [
      "List cannot be empty!\n",
      "Program has finished running.\n"
     ]
    }
   ],
   "source": [
    "compute_average()"
   ]
  },
  {
   "cell_type": "markdown",
   "id": "84403ea3-a8f5-4b22-a8f4-d97e8a514402",
   "metadata": {},
   "source": [
    "# Exercise 8"
   ]
  },
  {
   "cell_type": "code",
   "execution_count": 59,
   "id": "77842c15-0b4d-4645-a459-6023eb7289c5",
   "metadata": {},
   "outputs": [],
   "source": [
    "def write_to_file():\n",
    "    try:\n",
    "        file_name = input(\"Enter the filename: \")\n",
    "        content = input(\"Enter the string to write to the file: \")\n",
    "        with open(file_name, 'w') as file:\n",
    "            file.write(content)\n",
    "        print(\"File written successfully.\")\n",
    "    except Exception as e:\n",
    "        print(f\"An error occurred: {e}\")\n",
    "    else:\n",
    "        print(\"Welcome! No exceptions occurred.\")"
   ]
  },
  {
   "cell_type": "code",
   "execution_count": 61,
   "id": "e4792909-c59d-4175-a363-03849c26beac",
   "metadata": {},
   "outputs": [
    {
     "name": "stdin",
     "output_type": "stream",
     "text": [
      "Enter the filename:  Ass7_copy.txt\n",
      "Enter the string to write to the file:  I'm learing Python.\n"
     ]
    },
    {
     "name": "stdout",
     "output_type": "stream",
     "text": [
      "File written successfully.\n",
      "Welcome! No exceptions occurred.\n"
     ]
    }
   ],
   "source": [
    "write_to_file()"
   ]
  },
  {
   "cell_type": "code",
   "execution_count": 63,
   "id": "2ad43296-b338-44d5-abaa-5ecc5da00f6c",
   "metadata": {},
   "outputs": [
    {
     "name": "stdout",
     "output_type": "stream",
     "text": [
      "I'm learing Python.\n"
     ]
    }
   ],
   "source": [
    "read_file('Ass7_copy.txt')"
   ]
  },
  {
   "cell_type": "markdown",
   "id": "73faedd9-2227-4684-b950-7d6f496e3f3f",
   "metadata": {},
   "source": [
    "# Exercise 9"
   ]
  },
  {
   "cell_type": "code",
   "execution_count": 81,
   "id": "c1d34f1d-ca2a-4f69-bfaf-0dc0690ce074",
   "metadata": {},
   "outputs": [],
   "source": [
    "class Course:\n",
    "    def __init__(self, course_code, course_name, credit_hours):\n",
    "        self.course_code = course_code\n",
    "        self.course_name = course_name\n",
    "        self.credit_hours = credit_hours\n",
    "\n",
    "    def __str__(self):\n",
    "        return f\"{self.course_code}: {self.course_name} ({self.credit_hours} credits)\"\n",
    "\n",
    "class CoreCourse(Course):\n",
    "    def __init__(self, course_code, course_name, credit_hours, required_for_major):\n",
    "        super().__init__(course_code, course_name, credit_hours)\n",
    "        self.required_for_major = required_for_major\n",
    "\n",
    "    def __str__(self):\n",
    "        return f\"{super().__str__()} - Required for Major: {self.required_for_major}\"\n",
    "\n",
    "class ElectiveCourse(Course):\n",
    "    def __init__(self, course_code, course_name, credit_hours, elective_type):\n",
    "        super().__init__(course_code, course_name, credit_hours)\n",
    "        self.elective_type = elective_type\n",
    "\n",
    "    def __str__(self):\n",
    "        return f\"{super().__str__()} - Elective Type: {self.elective_type}\""
   ]
  },
  {
   "cell_type": "code",
   "execution_count": 83,
   "id": "9bd0d25f-88e9-43f3-8fa1-6664e5dceb90",
   "metadata": {},
   "outputs": [],
   "source": [
    "core = CoreCourse(\"CS101\", \"Introduction to Computer Science\", 3, True)\n",
    "elective = ElectiveCourse(\"ART100\", \"Basic Art\", 2, \"liberal arts\")"
   ]
  },
  {
   "cell_type": "code",
   "execution_count": 85,
   "id": "8aa6a0fc-963d-4c6c-a587-3735da5bd214",
   "metadata": {},
   "outputs": [
    {
     "name": "stdout",
     "output_type": "stream",
     "text": [
      "CS101: Introduction to Computer Science (3 credits) - Required for Major: True\n",
      "ART100: Basic Art (2 credits) - Elective Type: liberal arts\n"
     ]
    }
   ],
   "source": [
    "print(core)       \n",
    "print(elective)  "
   ]
  },
  {
   "cell_type": "code",
   "execution_count": null,
   "id": "9898f8b9-2548-4b64-93f9-8d8716424f88",
   "metadata": {},
   "outputs": [],
   "source": []
  }
 ],
 "metadata": {
  "kernelspec": {
   "display_name": "Python 3 (ipykernel)",
   "language": "python",
   "name": "python3"
  },
  "language_info": {
   "codemirror_mode": {
    "name": "ipython",
    "version": 3
   },
   "file_extension": ".py",
   "mimetype": "text/x-python",
   "name": "python",
   "nbconvert_exporter": "python",
   "pygments_lexer": "ipython3",
   "version": "3.12.4"
  }
 },
 "nbformat": 4,
 "nbformat_minor": 5
}
